{
 "cells": [
  {
   "cell_type": "code",
   "execution_count": 6,
   "metadata": {},
   "outputs": [],
   "source": [
    "import numpy as np\n",
    "import random\n",
    "\n",
    "def print_header():\n",
    "    print(\"\\t What is the number you want the computer to guess?!\")\n",
    "    print(\"\\t Your number must be between 1 and 100\")\n",
    "    print(\"\\t If your number is higher type h, if your number is lower type l.\")\n",
    "    print(\"\\t When the computer guess matches your guess type \\\"You got it!\\\"\")\n",
    "    \n",
    "def main():\n",
    "    #prints the greeting banner\n",
    "    print_header()\n",
    "    \n",
    "    your_number = int(input(\"What is your number:\")) \n",
    "    computer_guess = np.random.randint(1,100)\n",
    "    max_guess = 101\n",
    "    min_guess = 0\n",
    "    \n",
    "    while True:\n",
    "        print(\"The computer guess is:\", computer_guess, \"Your number is:\", your_number)\n",
    "        response = input()\n",
    "        response.lower()\n",
    "        if response == \"h\":\n",
    "            min_guess = computer_guess\n",
    "            computer_guess = ((min_guess + 1 + max_guess - 1) // 2)\n",
    "        if response == \"l\":\n",
    "            max_guess = computer_guess\n",
    "            computer_guess = ((min_guess + 1 + max_guess - 1) // 2)\n",
    "        if response == \"You got it!\":\n",
    "            print(\"I knew I would out smart you!\")\n",
    "            print(\"Thanks for playing!\")\n",
    "            break\n"
   ]
  },
  {
   "cell_type": "code",
   "execution_count": null,
   "metadata": {},
   "outputs": [
    {
     "name": "stdout",
     "output_type": "stream",
     "text": [
      "\t What is the number you want the computer to guess?!\n",
      "\t Your number must be between 1 and 100\n",
      "\t If your number is higher type h, if your number is lower type l.\n",
      "\t When the computer guess matches your guess type \"You got it!\"\n"
     ]
    }
   ],
   "source": [
    "if __name__ == \"__main__\":\n",
    "    main()"
   ]
  },
  {
   "cell_type": "code",
   "execution_count": null,
   "metadata": {},
   "outputs": [],
   "source": []
  }
 ],
 "metadata": {
  "kernelspec": {
   "display_name": "Python 3",
   "language": "python",
   "name": "python3"
  },
  "language_info": {
   "codemirror_mode": {
    "name": "ipython",
    "version": 3
   },
   "file_extension": ".py",
   "mimetype": "text/x-python",
   "name": "python",
   "nbconvert_exporter": "python",
   "pygments_lexer": "ipython3",
   "version": "3.8.3"
  }
 },
 "nbformat": 4,
 "nbformat_minor": 4
}

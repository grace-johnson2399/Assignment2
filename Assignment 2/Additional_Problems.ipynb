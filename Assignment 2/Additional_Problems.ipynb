{
 "cells": [
  {
   "cell_type": "markdown",
   "metadata": {},
   "source": [
    "## Additional Problems\n"
   ]
  },
  {
   "cell_type": "markdown",
   "metadata": {},
   "source": [
    "## Problem 1\n",
    "### What is the price of a 10-year, zero-coupon bond paying $1,000 at maturity if the YTM is:\n",
    "##### a. at 5% = 613.91\n",
    "##### b. at 10% = 385.54\n",
    "##### c. at 15% = 247.18"
   ]
  },
  {
   "cell_type": "code",
   "execution_count": 3,
   "metadata": {},
   "outputs": [
    {
     "name": "stdout",
     "output_type": "stream",
     "text": [
      "The bond price is: $247.18\n"
     ]
    }
   ],
   "source": [
    "##Code example for example C\n",
    "import numpy as np\n",
    "\n",
    "def bond_factory(face: float, coupon: float, frequency: int, maturity: int) -> np.ndarray:\n",
    "    the_bond = np.full(maturity * frequency, (coupon * face) / frequency)\n",
    "    the_bond[-1] += face\n",
    "    return the_bond\n",
    "\n",
    "def bond_price(rate: float, the_bond: np.ndarray) -> float:\n",
    "    disc = np.array([1.0 / ((1.0 + rate) ** i) for i in range( 1, the_bond.shape[0] + 1)])\n",
    "    return np.sum(disc * the_bond)\n",
    "\n",
    "face_value = 1000.0\n",
    "coupon_rate = 0\n",
    "frequency = 1\n",
    "maturity = 10\n",
    "ytm = .15 / frequency\n",
    "\n",
    "the_bond = bond_factory(face_value, coupon_rate, frequency, maturity)\n",
    "the_price = bond_price(ytm, the_bond)\n",
    "print(f\"The bond price is: ${the_price:,.2f}\")"
   ]
  },
  {
   "cell_type": "markdown",
   "metadata": {},
   "source": [
    "## Problem 2\n",
    "### Microhard has issued a bond with the following characteristics:\n",
    "   #### Par: $1,000, Time to Maturity: 25 years, Coupon rate: 7 percent, Semiannual payments\n",
    "   \n",
    "##### a. 7 percent = 1,000\n",
    "##### b. 9 percent = 802.38\n",
    "##### c. 5 percent = 1283.62\n",
    "   "
   ]
  },
  {
   "cell_type": "code",
   "execution_count": 5,
   "metadata": {},
   "outputs": [
    {
     "name": "stdout",
     "output_type": "stream",
     "text": [
      "The bond price is: $1,283.62\n"
     ]
    }
   ],
   "source": [
    "##Code example for problem C\n",
    "import numpy as np\n",
    "\n",
    "def bond_factory(face: float, coupon: float, frequency: int, maturity: int) -> np.ndarray:\n",
    "    the_bond = np.full(maturity * frequency, (coupon * face) / frequency)\n",
    "    the_bond[-1] += face\n",
    "    return the_bond\n",
    "\n",
    "def bond_price(rate: float, the_bond: np.ndarray) -> float:\n",
    "    disc = np.array([1.0 / ((1.0 + rate) ** i) for i in range( 1, the_bond.shape[0] + 1)])\n",
    "    return np.sum(disc * the_bond)\n",
    "\n",
    "face_value = 1000.0\n",
    "coupon_rate = 0.07\n",
    "frequency = 2\n",
    "maturity = 25\n",
    "ytm = .05 / frequency\n",
    "\n",
    "the_bond = bond_factory(face_value, coupon_rate, frequency, maturity)\n",
    "the_price = bond_price(ytm, the_bond)\n",
    "print(f\"The bond price is: ${the_price:,.2f}\")"
   ]
  },
  {
   "cell_type": "markdown",
   "metadata": {},
   "source": [
    "## Problem 3\n",
    "### Watters Umbrella Corp. issued 12-year bonds 2 years ago at a coupon rate of 7.8%. The bonds make semiannual payments. If these bonds currently sell for 105 percent of par value, what is the YTM?\n",
    "\n",
    "##### Answer: 7.09%\n"
   ]
  },
  {
   "cell_type": "code",
   "execution_count": 11,
   "metadata": {},
   "outputs": [
    {
     "name": "stdout",
     "output_type": "stream",
     "text": [
      "(0, 0.07093412373433239)\n"
     ]
    },
    {
     "data": {
      "text/plain": [
       "1049.9999999928186"
      ]
     },
     "execution_count": 11,
     "metadata": {},
     "output_type": "execute_result"
    }
   ],
   "source": [
    "##Example code for Problem 3\n",
    "import numpy as np\n",
    "\n",
    "def bond_factory(face: float, coupon: float, frequency: int, maturity: float) -> np.ndarray:\n",
    "    bond = np.full(int(maturity * frequency), (coupon * face) / frequency)\n",
    "    bond[-1] += face\n",
    "    return bond\n",
    "\n",
    "def bond_price(rate:float, the_bond: np.ndarray) -> float:\n",
    "    disc = np.array([1.0 / ((1.0 + rate) ** i) for i in range(1, the_bond.shape[0] + 1)])\n",
    "    return np.sum(disc * the_bond)\n",
    "\n",
    "def bond_yield(rate: float, the_bond: np.ndarray) -> float:\n",
    "    lower = 0.0\n",
    "    upper = 2.0\n",
    "    guess = 0.5 * (lower + upper)\n",
    "    tolerance = 10.0 ** -8\n",
    "    guess_price = bond_price(guess, the_bond)\n",
    "    diff = target_price - guess_price\n",
    "    tries = 0\n",
    "    \n",
    "    while abs(diff) >= tolerance:\n",
    "        if diff <= 0.0:\n",
    "            lower = guess\n",
    "        else:\n",
    "            upper = guess\n",
    "        guess = 0.5 * (lower + upper)\n",
    "        diff = target_price - bond_price(guess, the_bond)\n",
    "        tries += 1\n",
    "        \n",
    "    return guess\n",
    "    \n",
    "\n",
    "face = 1000\n",
    "coupon_rate = .078\n",
    "maturity = 10\n",
    "frequency = 2\n",
    "\n",
    "\n",
    "a_bond = bond_factory(face, coupon_rate, frequency, maturity)\n",
    "\n",
    "the_price = bond_price(.05, a_bond)\n",
    "\n",
    "guess_rate = 0.001\n",
    "guess_price = bond_price(guess_rate, a_bond)\n",
    "increment = 0.001\n",
    "tries = 0\n",
    "target_price = 1050\n",
    "diff = target_price - guess_price\n",
    "tolerance = 10.0 ** -2\n",
    "\n",
    "while True:\n",
    "    if diff <= tolerance:\n",
    "        break\n",
    "    else:\n",
    "        tries += 1\n",
    "        print((tries, guess_rate, guess_price))\n",
    "        guess_rate =+ 0.001\n",
    "        guess_price = bond_price(guess_rate, a_bond)\n",
    "        diff = target_price - guess_price\n",
    "        \n",
    "\n",
    "result = bond_yield(target_price, a_bond)\n",
    "print((tries, result * 2)) ##Times 2 for annual YTM\n",
    "\n",
    "bond_price(result, a_bond)\n"
   ]
  },
  {
   "cell_type": "markdown",
   "metadata": {},
   "source": [
    "## Problem 4\n",
    "### Hacker Software has 7.4 percent coupon bonds on the market with 9 years to maturity. The bonds make semiannual payments and currently sell for 96 percent of par. What is the YTM?\n",
    "\n",
    "##### Answer: 8.03%\n"
   ]
  },
  {
   "cell_type": "code",
   "execution_count": 13,
   "metadata": {},
   "outputs": [
    {
     "name": "stdout",
     "output_type": "stream",
     "text": [
      "(0, 0.08032788999116747)\n"
     ]
    },
    {
     "data": {
      "text/plain": [
       "960.0000000019695"
      ]
     },
     "execution_count": 13,
     "metadata": {},
     "output_type": "execute_result"
    }
   ],
   "source": [
    "## Example code for Problem 4\n",
    "import numpy as np\n",
    "\n",
    "def bond_factory(face: float, coupon: float, frequency: int, maturity: float) -> np.ndarray:\n",
    "    bond = np.full(int(maturity * frequency), (coupon * face) / frequency)\n",
    "    bond[-1] += face\n",
    "    return bond\n",
    "\n",
    "def bond_price(rate:float, the_bond: np.ndarray) -> float:\n",
    "    disc = np.array([1.0 / ((1.0 + rate) ** i) for i in range(1, the_bond.shape[0] + 1)])\n",
    "    return np.sum(disc * the_bond)\n",
    "\n",
    "def bond_yield(rate: float, the_bond: np.ndarray) -> float:\n",
    "    lower = 0.0\n",
    "    upper = 2.0\n",
    "    guess = 0.5 * (lower + upper)\n",
    "    tolerance = 10.0 ** -8\n",
    "    guess_price = bond_price(guess, the_bond)\n",
    "    diff = target_price - guess_price\n",
    "    tries = 0\n",
    "    \n",
    "    while abs(diff) >= tolerance:\n",
    "        if diff <= 0.0:\n",
    "            lower = guess\n",
    "        else:\n",
    "            upper = guess\n",
    "        guess = 0.5 * (lower + upper)\n",
    "        diff = target_price - bond_price(guess, the_bond)\n",
    "        tries += 1\n",
    "        \n",
    "    return guess\n",
    "    \n",
    "\n",
    "face = 1000\n",
    "coupon_rate = .074\n",
    "maturity = 9\n",
    "frequency = 2\n",
    "\n",
    "\n",
    "a_bond = bond_factory(face, coupon_rate, frequency, maturity)\n",
    "\n",
    "the_price = bond_price(.05, a_bond)\n",
    "\n",
    "guess_rate = 0.001\n",
    "guess_price = bond_price(guess_rate, a_bond)\n",
    "increment = 0.001\n",
    "tries = 0\n",
    "target_price = 960\n",
    "diff = target_price - guess_price\n",
    "tolerance = 10.0 ** -2\n",
    "\n",
    "while True:\n",
    "    if diff <= tolerance:\n",
    "        break\n",
    "    else:\n",
    "        tries += 1\n",
    "        print((tries, guess_rate, guess_price))\n",
    "        guess_rate =+ 0.001\n",
    "        guess_price = bond_price(guess_rate, a_bond)\n",
    "        diff = target_price - guess_price\n",
    "        \n",
    "\n",
    "result = bond_yield(target_price, a_bond)\n",
    "print((tries, result * 2)) ##Times 2 for annual YTM\n",
    "\n",
    "bond_price(result, a_bond)\n",
    "\n"
   ]
  },
  {
   "cell_type": "markdown",
   "metadata": {},
   "source": [
    "## Problem 5\n",
    "### Pembroke Co. wants to issue new 20-year bonds for some much needed expansion projects. The company currently has 10 percent coupon bonds on the market that sell for $1,063, make semiannual payments, and mature in 20 years. What coupon rate should the company set on its new bonds if it wants them to sell at par?\n",
    "\n",
    "##### Answer: 9.3%"
   ]
  },
  {
   "cell_type": "code",
   "execution_count": 23,
   "metadata": {},
   "outputs": [
    {
     "name": "stdout",
     "output_type": "stream",
     "text": [
      "(0, 0.09300524089121609)\n"
     ]
    },
    {
     "data": {
      "text/plain": [
       "1063.0000000032096"
      ]
     },
     "execution_count": 23,
     "metadata": {},
     "output_type": "execute_result"
    }
   ],
   "source": [
    "import numpy as np\n",
    "\n",
    "def bond_factory(face: float, coupon: float, frequency: int, maturity: float) -> np.ndarray:\n",
    "    bond = np.full(int(maturity * frequency), (coupon * face) / frequency)\n",
    "    bond[-1] += face\n",
    "    return bond\n",
    "\n",
    "def bond_price(rate:float, the_bond: np.ndarray) -> float:\n",
    "    disc = np.array([1.0 / ((1.0 + rate) ** i) for i in range(1, the_bond.shape[0] + 1)])\n",
    "    return np.sum(disc * the_bond)\n",
    "\n",
    "def bond_yield(rate: float, the_bond: np.ndarray) -> float:\n",
    "    lower = 0.0\n",
    "    upper = 2.0\n",
    "    guess = 0.5 * (lower + upper)\n",
    "    tolerance = 10.0 ** -8\n",
    "    guess_price = bond_price(guess, the_bond)\n",
    "    diff = target_price - guess_price\n",
    "    tries = 0\n",
    "    \n",
    "    while abs(diff) >= tolerance:\n",
    "        if diff <= 0.0:\n",
    "            lower = guess\n",
    "        else:\n",
    "            upper = guess\n",
    "        guess = 0.5 * (lower + upper)\n",
    "        diff = target_price - bond_price(guess, the_bond)\n",
    "        tries += 1\n",
    "        \n",
    "    return guess\n",
    "    \n",
    "\n",
    "face = 1000\n",
    "coupon_rate = .10\n",
    "maturity = 20\n",
    "frequency = 2\n",
    "\n",
    "\n",
    "a_bond = bond_factory(face, coupon_rate, frequency, maturity)\n",
    "\n",
    "the_price = bond_price(.05, a_bond)\n",
    "\n",
    "guess_rate = 0.001\n",
    "guess_price = bond_price(guess_rate, a_bond)\n",
    "increment = 0.001\n",
    "tries = 0\n",
    "target_price = 1063\n",
    "diff = target_price - guess_price\n",
    "tolerance = 10.0 ** -2\n",
    "\n",
    "while True:\n",
    "    if diff <= tolerance:\n",
    "        break\n",
    "    else:\n",
    "        tries += 1\n",
    "        print((tries, guess_rate, guess_price))\n",
    "        guess_rate =+ 0.001\n",
    "        guess_price = bond_price(guess_rate, a_bond)\n",
    "        diff = target_price - guess_price\n",
    "        \n",
    "\n",
    "result = bond_yield(target_price, a_bond)\n",
    "print((tries, result * 2)) ##Times 2 for annual YTM\n",
    "\n",
    "bond_price(result, a_bond)\n",
    "\n"
   ]
  },
  {
   "cell_type": "markdown",
   "metadata": {},
   "source": [
    "## Problem 6\n",
    "### Write 2 additional bond pricing homework problems that are plausible and solve them with your code"
   ]
  },
  {
   "cell_type": "markdown",
   "metadata": {},
   "source": [
    "#### 6a. What is the price of a bond that matures in 15 years, with a 10% coupon rate, with a YTM of 12% with semiannual payments. \n",
    "##### Answer: 862.35"
   ]
  },
  {
   "cell_type": "code",
   "execution_count": 14,
   "metadata": {},
   "outputs": [
    {
     "name": "stdout",
     "output_type": "stream",
     "text": [
      "The bond price is: $862.35\n"
     ]
    }
   ],
   "source": [
    "##Code example for Problem 6a\n",
    "import numpy as np\n",
    "\n",
    "def bond_factory(face: float, coupon: float, frequency: int, maturity: int) -> np.ndarray:\n",
    "    the_bond = np.full(maturity * frequency, (coupon * face) / frequency)\n",
    "    the_bond[-1] += face\n",
    "    return the_bond\n",
    "\n",
    "def bond_price(rate: float, the_bond: np.ndarray) -> float:\n",
    "    disc = np.array([1.0 / ((1.0 + rate) ** i) for i in range( 1, the_bond.shape[0] + 1)])\n",
    "    return np.sum(disc * the_bond)\n",
    "\n",
    "face_value = 1000.0\n",
    "coupon_rate = 0.1\n",
    "frequency = 2\n",
    "maturity = 15\n",
    "ytm = .12 / frequency\n",
    "\n",
    "the_bond = bond_factory(face_value, coupon_rate, frequency, maturity)\n",
    "the_price = bond_price(ytm, the_bond)\n",
    "print(f\"The bond price is: ${the_price:,.2f}\")"
   ]
  },
  {
   "cell_type": "markdown",
   "metadata": {},
   "source": [
    "#### 6b. Rugertopia issued a 1,000 par value bond, that matures in 30 years, with a coupon rate of 17% that makes annual payments with a YTM of 11%. \n",
    "##### Answer: 1,523.50"
   ]
  },
  {
   "cell_type": "code",
   "execution_count": 15,
   "metadata": {},
   "outputs": [
    {
     "name": "stdout",
     "output_type": "stream",
     "text": [
      "The bond price is: $1,523.50\n"
     ]
    }
   ],
   "source": [
    "##Code example for Problem 6b\n",
    "import numpy as np\n",
    "\n",
    "def bond_factory(face: float, coupon: float, frequency: int, maturity: int) -> np.ndarray:\n",
    "    the_bond = np.full(maturity * frequency, (coupon * face) / frequency)\n",
    "    the_bond[-1] += face\n",
    "    return the_bond\n",
    "\n",
    "def bond_price(rate: float, the_bond: np.ndarray) -> float:\n",
    "    disc = np.array([1.0 / ((1.0 + rate) ** i) for i in range( 1, the_bond.shape[0] + 1)])\n",
    "    return np.sum(disc * the_bond)\n",
    "\n",
    "face_value = 1000.0\n",
    "coupon_rate = 0.17\n",
    "frequency = 2\n",
    "maturity = 30\n",
    "ytm = .11 / frequency\n",
    "\n",
    "the_bond = bond_factory(face_value, coupon_rate, frequency, maturity)\n",
    "the_price = bond_price(ytm, the_bond)\n",
    "print(f\"The bond price is: ${the_price:,.2f}\")"
   ]
  },
  {
   "cell_type": "markdown",
   "metadata": {},
   "source": [
    "## Problem 7\n",
    "### Write 2 additional bond yield-to-maturity homework problems that are plausible and solve them with your code.\n"
   ]
  },
  {
   "cell_type": "markdown",
   "metadata": {},
   "source": [
    "#### 7a. Riggin's company issued a 5% coupon bond with 15 years to maturity. he bonds make semiannual payments and currently sell for 95 percent of par. What is the YTM?\n",
    "##### Answer: 5.49%"
   ]
  },
  {
   "cell_type": "code",
   "execution_count": 20,
   "metadata": {},
   "outputs": [
    {
     "name": "stdout",
     "output_type": "stream",
     "text": [
      "(0, 0.05493637981271604)\n"
     ]
    },
    {
     "data": {
      "text/plain": [
       "949.9999999938636"
      ]
     },
     "execution_count": 20,
     "metadata": {},
     "output_type": "execute_result"
    }
   ],
   "source": [
    "##Code example for Problem 7a\n",
    "import numpy as np\n",
    "\n",
    "def bond_factory(face: float, coupon: float, frequency: int, maturity: float) -> np.ndarray:\n",
    "    bond = np.full(int(maturity * frequency), (coupon * face) / frequency)\n",
    "    bond[-1] += face\n",
    "    return bond\n",
    "\n",
    "def bond_price(rate:float, the_bond: np.ndarray) -> float:\n",
    "    disc = np.array([1.0 / ((1.0 + rate) ** i) for i in range(1, the_bond.shape[0] + 1)])\n",
    "    return np.sum(disc * the_bond)\n",
    "\n",
    "def bond_yield(rate: float, the_bond: np.ndarray) -> float:\n",
    "    lower = 0.0\n",
    "    upper = 2.0\n",
    "    guess = 0.5 * (lower + upper)\n",
    "    tolerance = 10.0 ** -8\n",
    "    guess_price = bond_price(guess, the_bond)\n",
    "    diff = target_price - guess_price\n",
    "    tries = 0\n",
    "    \n",
    "    while abs(diff) >= tolerance:\n",
    "        if diff <= 0.0:\n",
    "            lower = guess\n",
    "        else:\n",
    "            upper = guess\n",
    "        guess = 0.5 * (lower + upper)\n",
    "        diff = target_price - bond_price(guess, the_bond)\n",
    "        tries += 1\n",
    "        \n",
    "    return guess\n",
    "    \n",
    "\n",
    "face = 1000\n",
    "coupon_rate = .05\n",
    "maturity = 15\n",
    "frequency = 2\n",
    "\n",
    "\n",
    "a_bond = bond_factory(face, coupon_rate, frequency, maturity)\n",
    "\n",
    "the_price = bond_price(.05, a_bond)\n",
    "\n",
    "guess_rate = 0.001\n",
    "guess_price = bond_price(guess_rate, a_bond)\n",
    "increment = 0.001\n",
    "tries = 0\n",
    "target_price = 950\n",
    "diff = target_price - guess_price\n",
    "tolerance = 10.0 ** -2\n",
    "\n",
    "while True:\n",
    "    if diff <= tolerance:\n",
    "        break\n",
    "    else:\n",
    "        tries += 1\n",
    "        print((tries, guess_rate, guess_price))\n",
    "        guess_rate =+ 0.001\n",
    "        guess_price = bond_price(guess_rate, a_bond)\n",
    "        diff = target_price - guess_price\n",
    "        \n",
    "\n",
    "result = bond_yield(target_price, a_bond)\n",
    "print((tries, result * 2)) ##Times 2 for annual YTM\n",
    "\n",
    "bond_price(result, a_bond)\n",
    "\n"
   ]
  },
  {
   "cell_type": "markdown",
   "metadata": {},
   "source": [
    "#### 7b. Spooky company has a 15% coupon bond that has 30 years to maturity. The bonds make semiannual payments and currently sell for 102 percent of par. What is the YTM?\n",
    "##### Answer: 14.70%"
   ]
  },
  {
   "cell_type": "code",
   "execution_count": 22,
   "metadata": {},
   "outputs": [
    {
     "name": "stdout",
     "output_type": "stream",
     "text": [
      "(0, 0.14701735992457543)\n"
     ]
    },
    {
     "data": {
      "text/plain": [
       "1019.9999999992529"
      ]
     },
     "execution_count": 22,
     "metadata": {},
     "output_type": "execute_result"
    }
   ],
   "source": [
    "##Code example for Problem 7b\n",
    "import numpy as np\n",
    "\n",
    "def bond_factory(face: float, coupon: float, frequency: int, maturity: float) -> np.ndarray:\n",
    "    bond = np.full(int(maturity * frequency), (coupon * face) / frequency)\n",
    "    bond[-1] += face\n",
    "    return bond\n",
    "\n",
    "def bond_price(rate:float, the_bond: np.ndarray) -> float:\n",
    "    disc = np.array([1.0 / ((1.0 + rate) ** i) for i in range(1, the_bond.shape[0] + 1)])\n",
    "    return np.sum(disc * the_bond)\n",
    "\n",
    "def bond_yield(rate: float, the_bond: np.ndarray) -> float:\n",
    "    lower = 0.0\n",
    "    upper = 2.0\n",
    "    guess = 0.5 * (lower + upper)\n",
    "    tolerance = 10.0 ** -8\n",
    "    guess_price = bond_price(guess, the_bond)\n",
    "    diff = target_price - guess_price\n",
    "    tries = 0\n",
    "    \n",
    "    while abs(diff) >= tolerance:\n",
    "        if diff <= 0.0:\n",
    "            lower = guess\n",
    "        else:\n",
    "            upper = guess\n",
    "        guess = 0.5 * (lower + upper)\n",
    "        diff = target_price - bond_price(guess, the_bond)\n",
    "        tries += 1\n",
    "        \n",
    "    return guess\n",
    "    \n",
    "\n",
    "face = 1000\n",
    "coupon_rate = .15\n",
    "maturity = 30\n",
    "frequency = 2\n",
    "\n",
    "\n",
    "a_bond = bond_factory(face, coupon_rate, frequency, maturity)\n",
    "\n",
    "the_price = bond_price(.05, a_bond)\n",
    "\n",
    "guess_rate = 0.001\n",
    "guess_price = bond_price(guess_rate, a_bond)\n",
    "increment = 0.001\n",
    "tries = 0\n",
    "target_price = 1020\n",
    "diff = target_price - guess_price\n",
    "tolerance = 10.0 ** -2\n",
    "\n",
    "while True:\n",
    "    if diff <= tolerance:\n",
    "        break\n",
    "    else:\n",
    "        tries += 1\n",
    "        print((tries, guess_rate, guess_price))\n",
    "        guess_rate =+ 0.001\n",
    "        guess_price = bond_price(guess_rate, a_bond)\n",
    "        diff = target_price - guess_price\n",
    "        \n",
    "\n",
    "result = bond_yield(target_price, a_bond)\n",
    "print((tries, result * 2)) ##Times 2 for annual YTM\n",
    "\n",
    "bond_price(result, a_bond)\n",
    "\n"
   ]
  },
  {
   "cell_type": "code",
   "execution_count": null,
   "metadata": {},
   "outputs": [],
   "source": []
  }
 ],
 "metadata": {
  "kernelspec": {
   "display_name": "Python 3",
   "language": "python",
   "name": "python3"
  },
  "language_info": {
   "codemirror_mode": {
    "name": "ipython",
    "version": 3
   },
   "file_extension": ".py",
   "mimetype": "text/x-python",
   "name": "python",
   "nbconvert_exporter": "python",
   "pygments_lexer": "ipython3",
   "version": "3.8.3"
  }
 },
 "nbformat": 4,
 "nbformat_minor": 4
}

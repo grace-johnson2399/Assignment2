{
 "cells": [
  {
   "cell_type": "code",
   "execution_count": 32,
   "metadata": {},
   "outputs": [
    {
     "name": "stdout",
     "output_type": "stream",
     "text": [
      "(0, 0.09300524089121609)\n"
     ]
    },
    {
     "data": {
      "text/plain": [
       "1063.0000000032096"
      ]
     },
     "execution_count": 32,
     "metadata": {},
     "output_type": "execute_result"
    }
   ],
   "source": [
    "import numpy as np\n",
    "\n",
    "def bond_factory(face: float, coupon: float, frequency: int, maturity: float) -> np.ndarray:\n",
    "    bond = np.full(int(maturity * frequency), (coupon * face) / frequency)\n",
    "    bond[-1] += face\n",
    "    return bond\n",
    "\n",
    "def bond_price(rate:float, the_bond: np.ndarray) -> float:\n",
    "    disc = np.array([1.0 / ((1.0 + rate) ** i) for i in range(1, the_bond.shape[0] + 1)])\n",
    "    return np.sum(disc * the_bond)\n",
    "\n",
    "def bond_yield(rate: float, the_bond: np.ndarray) -> float:\n",
    "    lower = 0.0\n",
    "    upper = 2.0\n",
    "    guess = 0.5 * (lower + upper)\n",
    "    tolerance = 10.0 ** -8\n",
    "    guess_price = bond_price(guess, the_bond)\n",
    "    diff = target_price - guess_price\n",
    "    tries = 0\n",
    "    \n",
    "    while abs(diff) >= tolerance:\n",
    "        if diff <= 0.0:\n",
    "            lower = guess\n",
    "        else:\n",
    "            upper = guess\n",
    "        guess = 0.5 * (lower + upper)\n",
    "        diff = target_price - bond_price(guess, the_bond)\n",
    "        tries += 1\n",
    "        \n",
    "    return guess\n",
    "    \n",
    "\n",
    "face = 1000\n",
    "coupon_rate = .10\n",
    "maturity = 20\n",
    "frequency = 2\n",
    "\n",
    "\n",
    "a_bond = bond_factory(face, coupon_rate, frequency, maturity)\n",
    "\n",
    "the_price = bond_price(.05, a_bond)\n",
    "\n",
    "guess_rate = 0.001\n",
    "guess_price = bond_price(guess_rate, a_bond)\n",
    "increment = 0.001\n",
    "tries = 0\n",
    "target_price = 1063\n",
    "diff = target_price - guess_price\n",
    "tolerance = 10.0 ** -2\n",
    "\n",
    "while True:\n",
    "    if diff <= tolerance:\n",
    "        break\n",
    "    else:\n",
    "        tries += 1\n",
    "        print((tries, guess_rate, guess_price))\n",
    "        guess_rate =+ 0.001\n",
    "        guess_price = bond_price(guess_rate, a_bond)\n",
    "        diff = target_price - guess_price\n",
    "        \n",
    "\n",
    "result = bond_yield(target_price, a_bond)\n",
    "print((tries, result * 2)) ##Times 2 for annual YTM\n",
    "\n",
    "bond_price(result, a_bond)\n",
    "\n"
   ]
  },
  {
   "cell_type": "code",
   "execution_count": null,
   "metadata": {},
   "outputs": [],
   "source": []
  }
 ],
 "metadata": {
  "kernelspec": {
   "display_name": "Python 3",
   "language": "python",
   "name": "python3"
  },
  "language_info": {
   "codemirror_mode": {
    "name": "ipython",
    "version": 3
   },
   "file_extension": ".py",
   "mimetype": "text/x-python",
   "name": "python",
   "nbconvert_exporter": "python",
   "pygments_lexer": "ipython3",
   "version": "3.8.3"
  }
 },
 "nbformat": 4,
 "nbformat_minor": 4
}
